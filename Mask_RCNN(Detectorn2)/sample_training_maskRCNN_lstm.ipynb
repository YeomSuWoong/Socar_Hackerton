{
  "cells": [
    {
      "cell_type": "code",
      "execution_count": 1,
      "metadata": {
        "colab": {
          "base_uri": "https://localhost:8080/"
        },
        "id": "cBEUKOBEMVMQ",
        "outputId": "1eef5330-6529-4c77-9550-691c119afca6"
      },
      "outputs": [
        {
          "output_type": "stream",
          "name": "stdout",
          "text": [
            "Mounted at /content/drive\n"
          ]
        }
      ],
      "source": [
        "from google.colab import drive\n",
        "drive.mount('/content/drive')"
      ]
    },
    {
      "cell_type": "code",
      "execution_count": 2,
      "metadata": {
        "id": "PQ5P1SNVme6n"
      },
      "outputs": [],
      "source": [
        "import os \n",
        "os.chdir('/content/drive/MyDrive/Colab Notebooks/Hackerton')"
      ]
    },
    {
      "cell_type": "code",
      "execution_count": 3,
      "metadata": {
        "colab": {
          "base_uri": "https://localhost:8080/"
        },
        "id": "7_ZJBqpguZDP",
        "outputId": "626aaeff-f7c1-4bbd-8608-801082efa713"
      },
      "outputs": [
        {
          "output_type": "stream",
          "name": "stdout",
          "text": [
            "\u001b[K     |████████████████████████████████| 1.8 MB 12.4 MB/s \n",
            "\u001b[K     |████████████████████████████████| 145 kB 56.2 MB/s \n",
            "\u001b[K     |████████████████████████████████| 181 kB 62.9 MB/s \n",
            "\u001b[K     |████████████████████████████████| 63 kB 1.8 MB/s \n",
            "\u001b[?25h  Building wheel for pathtools (setup.py) ... \u001b[?25l\u001b[?25hdone\n"
          ]
        }
      ],
      "source": [
        "!pip install --upgrade wandb -qq"
      ]
    },
    {
      "cell_type": "code",
      "execution_count": 4,
      "metadata": {
        "colab": {
          "base_uri": "https://localhost:8080/"
        },
        "id": "jHDsqk6eJz6o",
        "outputId": "12d35d4b-f7ac-48fd-82a0-46b496e2bba4"
      },
      "outputs": [
        {
          "output_type": "stream",
          "name": "stdout",
          "text": [
            "Looking in indexes: https://pypi.org/simple, https://us-python.pkg.dev/colab-wheels/public/simple/\n",
            "Requirement already satisfied: wandb in /usr/local/lib/python3.7/dist-packages (0.12.21)\n",
            "Requirement already satisfied: pathtools in /usr/local/lib/python3.7/dist-packages (from wandb) (0.1.2)\n",
            "Requirement already satisfied: shortuuid>=0.5.0 in /usr/local/lib/python3.7/dist-packages (from wandb) (1.0.9)\n",
            "Requirement already satisfied: psutil>=5.0.0 in /usr/local/lib/python3.7/dist-packages (from wandb) (5.4.8)\n",
            "Requirement already satisfied: PyYAML in /usr/local/lib/python3.7/dist-packages (from wandb) (3.13)\n",
            "Requirement already satisfied: sentry-sdk>=1.0.0 in /usr/local/lib/python3.7/dist-packages (from wandb) (1.6.0)\n",
            "Requirement already satisfied: promise<3,>=2.0 in /usr/local/lib/python3.7/dist-packages (from wandb) (2.3)\n",
            "Requirement already satisfied: requests<3,>=2.0.0 in /usr/local/lib/python3.7/dist-packages (from wandb) (2.23.0)\n",
            "Requirement already satisfied: six>=1.13.0 in /usr/local/lib/python3.7/dist-packages (from wandb) (1.15.0)\n",
            "Requirement already satisfied: docker-pycreds>=0.4.0 in /usr/local/lib/python3.7/dist-packages (from wandb) (0.4.0)\n",
            "Requirement already satisfied: protobuf<4.0dev,>=3.12.0 in /usr/local/lib/python3.7/dist-packages (from wandb) (3.17.3)\n",
            "Requirement already satisfied: setproctitle in /usr/local/lib/python3.7/dist-packages (from wandb) (1.2.3)\n",
            "Requirement already satisfied: setuptools in /usr/local/lib/python3.7/dist-packages (from wandb) (57.4.0)\n",
            "Requirement already satisfied: Click!=8.0.0,>=7.0 in /usr/local/lib/python3.7/dist-packages (from wandb) (7.1.2)\n",
            "Requirement already satisfied: GitPython>=1.0.0 in /usr/local/lib/python3.7/dist-packages (from wandb) (3.1.27)\n",
            "Requirement already satisfied: typing-extensions>=3.7.4.3 in /usr/local/lib/python3.7/dist-packages (from GitPython>=1.0.0->wandb) (4.1.1)\n",
            "Requirement already satisfied: gitdb<5,>=4.0.1 in /usr/local/lib/python3.7/dist-packages (from GitPython>=1.0.0->wandb) (4.0.9)\n",
            "Requirement already satisfied: smmap<6,>=3.0.1 in /usr/local/lib/python3.7/dist-packages (from gitdb<5,>=4.0.1->GitPython>=1.0.0->wandb) (5.0.0)\n",
            "Requirement already satisfied: urllib3!=1.25.0,!=1.25.1,<1.26,>=1.21.1 in /usr/local/lib/python3.7/dist-packages (from requests<3,>=2.0.0->wandb) (1.24.3)\n",
            "Requirement already satisfied: chardet<4,>=3.0.2 in /usr/local/lib/python3.7/dist-packages (from requests<3,>=2.0.0->wandb) (3.0.4)\n",
            "Requirement already satisfied: certifi>=2017.4.17 in /usr/local/lib/python3.7/dist-packages (from requests<3,>=2.0.0->wandb) (2022.6.15)\n",
            "Requirement already satisfied: idna<3,>=2.5 in /usr/local/lib/python3.7/dist-packages (from requests<3,>=2.0.0->wandb) (2.10)\n"
          ]
        }
      ],
      "source": [
        "!pip install wandb --upgrade"
      ]
    },
    {
      "cell_type": "code",
      "execution_count": 15,
      "metadata": {
        "id": "z4HzZkj2JEGo"
      },
      "outputs": [],
      "source": [
        "import os, sys\n",
        "import numpy as np\n",
        "from pathlib import Path\n",
        "import pandas as pd\n",
        "from pprint import pprint\n",
        "import easydict\n",
        "import wandb\n",
        "import torch\n",
        "\n",
        "from lane_change_risk_detection.dataset import DataSet\n",
        "from lane_change_risk_detection.models import LSTM_Classifier, CNN_LSTM_Classifier, CNN_Classifier, ResNet50_LSTM_Classifier \n",
        "from lane_change_risk_detection.train import Trainer\n",
        "\n",
        "PROJECT_NAME = \"socar_hackerton\""
      ]
    },
    {
      "cell_type": "code",
      "execution_count": 20,
      "metadata": {
        "colab": {
          "base_uri": "https://localhost:8080/",
          "height": 419,
          "referenced_widgets": [
            "2978033ab8e245f18cc7bdbf2636a2ec",
            "f1428de3c7084bd9ae07f4e92700c99c",
            "c6abfe7643f94555862dc7d612d3a7d2",
            "8238c8c64a154c61a4403e1ae0892b8e",
            "0b5d0af0afba47f3b1f91c795ea1a5b5",
            "44cc6ca84983482b8444aab3690c21db",
            "28900ca660c94631b3e2b15fc2030232",
            "7e0c5c68301d430c88909d447cd70523"
          ]
        },
        "id": "rY0yR4i-O8SE",
        "outputId": "134c9f12-1234-4513-b130-79258bd54384"
      },
      "outputs": [
        {
          "output_type": "display_data",
          "data": {
            "text/plain": [
              "<IPython.core.display.HTML object>"
            ],
            "text/html": [
              "Finishing last run (ID:1h55oh5t) before initializing another..."
            ]
          },
          "metadata": {}
        },
        {
          "output_type": "display_data",
          "data": {
            "text/plain": [
              "<IPython.core.display.HTML object>"
            ],
            "text/html": [
              "Waiting for W&B process to finish... <strong style=\"color:green\">(success).</strong>"
            ]
          },
          "metadata": {}
        },
        {
          "output_type": "display_data",
          "data": {
            "text/plain": [
              "VBox(children=(Label(value='0.001 MB of 0.001 MB uploaded (0.000 MB deduped)\\r'), FloatProgress(value=1.0, max…"
            ],
            "application/vnd.jupyter.widget-view+json": {
              "version_major": 2,
              "version_minor": 0,
              "model_id": "2978033ab8e245f18cc7bdbf2636a2ec"
            }
          },
          "metadata": {}
        },
        {
          "output_type": "display_data",
          "data": {
            "text/plain": [
              "<IPython.core.display.HTML object>"
            ],
            "text/html": [
              "Synced <strong style=\"color:#cdcd00\">fiery-sponge-26</strong>: <a href=\"https://wandb.ai/suwoong/socar_hackerton/runs/1h55oh5t\" target=\"_blank\">https://wandb.ai/suwoong/socar_hackerton/runs/1h55oh5t</a><br/>Synced 5 W&B file(s), 0 media file(s), 0 artifact file(s) and 0 other file(s)"
            ]
          },
          "metadata": {}
        },
        {
          "output_type": "display_data",
          "data": {
            "text/plain": [
              "<IPython.core.display.HTML object>"
            ],
            "text/html": [
              "Find logs at: <code>./wandb/run-20220711_102232-1h55oh5t/logs</code>"
            ]
          },
          "metadata": {}
        },
        {
          "output_type": "display_data",
          "data": {
            "text/plain": [
              "<IPython.core.display.HTML object>"
            ],
            "text/html": [
              "Successfully finished last run (ID:1h55oh5t). Initializing new run:<br/>"
            ]
          },
          "metadata": {}
        },
        {
          "output_type": "display_data",
          "data": {
            "text/plain": [
              "<IPython.core.display.HTML object>"
            ],
            "text/html": [
              "Tracking run with wandb version 0.12.21"
            ]
          },
          "metadata": {}
        },
        {
          "output_type": "display_data",
          "data": {
            "text/plain": [
              "<IPython.core.display.HTML object>"
            ],
            "text/html": [
              "Run data is saved locally in <code>/content/drive/MyDrive/Colab Notebooks/Hackerton/wandb/run-20220711_102308-m9hi2eq9</code>"
            ]
          },
          "metadata": {}
        },
        {
          "output_type": "display_data",
          "data": {
            "text/plain": [
              "<IPython.core.display.HTML object>"
            ],
            "text/html": [
              "Syncing run <strong><a href=\"https://wandb.ai/suwoong/socar_hackerton/runs/m9hi2eq9\" target=\"_blank\">resilient-tree-27</a></strong> to <a href=\"https://wandb.ai/suwoong/socar_hackerton\" target=\"_blank\">Weights & Biases</a> (<a href=\"https://wandb.me/run\" target=\"_blank\">docs</a>)<br/>"
            ]
          },
          "metadata": {}
        },
        {
          "output_type": "stream",
          "name": "stdout",
          "text": [
            "Total dataset breakdown: {'all': 163}\n",
            "Number of Training Sequences Included:  146\n",
            "Number of Testing Sequences Included:  17\n",
            "Num of Training Labels in Each Class: [139   7], Class Weights: tensor([ 0.5252, 10.4286], dtype=torch.float64)\n",
            "Num of Testing Labels in Each Class: [16  1], Class Weights: tensor([ 0.5252, 10.4286], dtype=torch.float64)\n"
          ]
        },
        {
          "output_type": "stream",
          "name": "stderr",
          "text": [
            "Epoch: 0000, loss_train: 0.6959:   0%|          | 0/10 [00:12<?, ?it/s]/usr/local/lib/python3.7/dist-packages/sklearn/metrics/_classification.py:1318: UndefinedMetricWarning: Precision is ill-defined and being set to 0.0 due to no predicted samples. Use `zero_division` parameter to control this behavior.\n",
            "  _warn_prf(average, modifier, msg_start, len(result))\n",
            "/usr/local/lib/python3.7/dist-packages/sklearn/metrics/_classification.py:1318: UndefinedMetricWarning: Precision is ill-defined and being set to 0.0 due to no predicted samples. Use `zero_division` parameter to control this behavior.\n",
            "  _warn_prf(average, modifier, msg_start, len(result))\n",
            "Epoch: 0000, loss_train: 0.6959:  10%|█         | 1/10 [00:13<02:00, 13.43s/it]"
          ]
        },
        {
          "output_type": "stream",
          "name": "stdout",
          "text": [
            "\n",
            "train loss: 0.6783384713408065, acc: 0.952054794520548 [[139   0], [  7   0]] mcc: 0.0 \n",
            "test loss: 0.7177019715309143, acc: 0.9411764705882353 [[16  0], [ 1  0]] mcc: 0.0\n"
          ]
        },
        {
          "output_type": "stream",
          "name": "stderr",
          "text": [
            "Epoch: 0009, loss_train: 0.6251: 100%|██████████| 10/10 [02:03<00:00, 12.35s/it]\n"
          ]
        }
      ],
      "source": [
        "args_parsed = easydict.EasyDict({\n",
        "  'input_path': '/content/drive/MyDrive/Colab Notebooks/Hackerton/data/masked_images',\n",
        "\t'pkl_path':'/content/drive/MyDrive/Colab Notebooks/Hackerton/save_train_data/save_dataset.pkl',\n",
        "\t'load_pkl': True,\n",
        "\t'save_pkl_path':'/content/drive/MyDrive/Colab Notebooks/Hackerton/save_train_data/save_dataset.pkl',\n",
        "\t'save_pkl': True,\n",
        "  'model_name': 'cnn_lstm',\n",
        "  'n_folds': 1,\n",
        "  'train_ratio': 0.9,\n",
        "  'downsample': False,\n",
        "  'seed': 0,\n",
        "  'test_step': 10,\n",
        "  'device': 'cuda',\n",
        "  'epochs': 10,\n",
        "  'batch_size': 32,\n",
        "  'bnorm': False,\n",
        "  'dropout': 0.1,\n",
        "  'learning_rate': 3e-5,\n",
        "  'weight_decay': 5e-4 \n",
        "\n",
        "   })\n",
        "class Config:\n",
        "\n",
        "  def __init__(self, args):\n",
        "    self.args_parsed = args\n",
        "    self.wandb = wandb.init(project=PROJECT_NAME)\n",
        "    self.wandb_config = self.wandb.config\n",
        "\n",
        "    for arg_name in vars(self.args_parsed):\n",
        "      self.__dict__[arg_name] = getattr(self.args_parsed, arg_name)\n",
        "      self.wandb_config[arg_name] = getattr(self.args_parsed, arg_name)\n",
        "    self.wandb_base_dir = Path('/content/drive/MyDrive/Colab Notebooks/Hackerton/data/masked_images').resolve\n",
        "\n",
        "def load_dataset(raw_image_path, risk_path, config=None):\n",
        "  dataset = DataSet()\n",
        "  dataset.read_video(raw_image_path, option='fixed frame amount', number_of_frames = 50, scaling = 'scale', scale_x = 0.1, scale_y = 0.1)\n",
        "  dataset.read_risk_data(risk_path)\n",
        "  dataset.convert_risk_to_one_hot(risk_threshold = 0.05)\n",
        "  if config != None and config.save_pkl:\n",
        "    parent_path = '/'.join(config.save_pkl_path.split('/')[:-1]) + '/'\n",
        "    fname = config.save_pkl_path.split('/')[-1]\n",
        "    dataset.save(save_dir = parent_path, filename=fname)\n",
        "    print('Saved pickled dataset')\n",
        "  return dataset\n",
        "\n",
        "\n",
        "def load_pickle(pkl_path):\n",
        "\tdataset = DataSet().loader(str(pkl_path))\n",
        "\treturn dataset\n",
        "\n",
        "\n",
        "\n",
        "def reshape_dataset(dataset):\n",
        "\t'''\n",
        "\t\tinput -> (batch, frames, height, width, channels)\n",
        "\t\toutput -> (batch, frames, channels, height, width)\n",
        "\t'''\n",
        "\treturn np.swapaxes(np.swapaxes(dataset, -1, -3), -1, -2)\n",
        "\n",
        "def train_model(dataset, config):\n",
        "\tpth_path = '/content/drive/MyDrive/Colab Notebooks/Hackerton/save_train_data/save_parameter.pth'\n",
        "\tdataset.video = reshape_dataset(dataset.video)\n",
        "\tvideo_sequences = dataset.video\n",
        "\tlabels = dataset.risk_one_hot\n",
        "\tclip_names = np.array(['default_all']*len(video_sequences))\n",
        "\tif hasattr(dataset, 'foldernames'): \n",
        "\t\tclip_names = np.concatenate((clip_names, dataset.foldernames), axis=0)\n",
        "\n",
        "\tif config.model_name == 'gru':\n",
        "\t\tmodel = LSTM_Classifier(video_sequences.shape, 'gru', config)\n",
        "\telif config.model_name == 'lstm':\n",
        "\t\tmodel = LSTM_Classifier(video_sequences.shape, 'lstm', config)\n",
        "\telif config.model_name == 'cnn':\n",
        "\t\tmodel = CNN_Classifier(video_sequences.shape, config)\n",
        "\telif config.model_name == 'cnn_lstm':\n",
        "\t\tmodel = CNN_LSTM_Classifier(video_sequences.shape, config)\n",
        "\telif config.model_name == 'resnet': \n",
        "\t\tmodel = ResNet50_LSTM_Classifier(video_sequences.shape, config)\n",
        "\t\n",
        "\ttrainer = Trainer(config)\n",
        "\ttrainer.init_dataset(video_sequences, labels, clip_names)\n",
        "\ttrainer.build_model(model)\n",
        " \n",
        "\tif config.n_folds > 1:\n",
        "\t\ttrainer.train_n_fold_cross_val()\n",
        "\telse:\n",
        "\t\ttrainer.train_model()\n",
        "\ttorch.save(model.state_dict(), pth_path)\n",
        " \n",
        "\n",
        "config = Config(args_parsed)\n",
        "image_path = '/content/drive/MyDrive/Colab Notebooks/Hackerton/data/masked_images'\n",
        "risk = '/content/drive/MyDrive/Colab Notebooks/Hackerton/test/LCTable.csv'\n",
        "\n",
        "if config.load_pkl:\n",
        "\tdataset = load_pickle(Path(config.pkl_path).resolve())\n",
        "else:\n",
        "\tdataset = load_dataset(image_path, risk, config=config)\n",
        "#dataset = load_dataset(image_path, risk, config=config);\n",
        "\t\n",
        "# train model\n",
        "model = train_model(dataset, config)"
      ]
    },
    {
      "cell_type": "code",
      "source": [
        "im_path = '/content/drive/MyDrive/Colab Notebooks/Hackerton/data/test/'\n",
        "\n",
        "dataset = DataSet()\n",
        "dataset.read_video(im_path, option='fixed frame amount', number_of_frames = 50, scaling = 'scale', scale_x = 0.1, scale_y = 0.1)\n",
        "dataset.video = reshape_dataset(dataset.video)\n",
        "video_sequences = dataset.video\n",
        "\n",
        "#cnn_lstm = CNN_LSTM_Classifier(video_sequences.shape, config)\n",
        "#cnn_lstm.load_state_dict(torch.load('/content/drive/MyDrive/Colab Notebooks/Hackerton/save_train_data/save_parameter.pth'))\n",
        "model = CNN_LSTM_Classifier(video_sequences.shape, config)\n",
        "model.load_state_dict(torch.load('/content/drive/MyDrive/Colab Notebooks/Hackerton/save_train_data/save_parameter.pth'))"
      ],
      "metadata": {
        "colab": {
          "base_uri": "https://localhost:8080/"
        },
        "id": "HL4FSavPfeG2",
        "outputId": "359c469e-1eb3-456f-d0a3-3ab272744b3e"
      },
      "execution_count": 61,
      "outputs": [
        {
          "output_type": "stream",
          "name": "stderr",
          "text": [
            "100%|██████████| 1/1 [00:14<00:00, 14.79s/it]\n"
          ]
        },
        {
          "output_type": "execute_result",
          "data": {
            "text/plain": [
              "<All keys matched successfully>"
            ]
          },
          "metadata": {},
          "execution_count": 61
        }
      ]
    },
    {
      "cell_type": "code",
      "source": [
        "model.eval()"
      ],
      "metadata": {
        "colab": {
          "base_uri": "https://localhost:8080/"
        },
        "id": "lOSzu8h9GwK0",
        "outputId": "fb4f688a-2754-47b4-f3ec-45626fc19f57"
      },
      "execution_count": 62,
      "outputs": [
        {
          "output_type": "execute_result",
          "data": {
            "text/plain": [
              "CNN_LSTM_Classifier(\n",
              "  (dropout): Dropout(p=0.1, inplace=False)\n",
              "  (bn1): BatchNorm3d(5, eps=1e-05, momentum=0.1, affine=True, track_running_stats=True)\n",
              "  (bn2): BatchNorm3d(5, eps=1e-05, momentum=0.1, affine=True, track_running_stats=True)\n",
              "  (bn3): BatchNorm3d(5, eps=1e-05, momentum=0.1, affine=True, track_running_stats=True)\n",
              "  (bn4): BatchNorm1d(5, eps=1e-05, momentum=0.1, affine=True, track_running_stats=True)\n",
              "  (bn5): BatchNorm1d(5, eps=1e-05, momentum=0.1, affine=True, track_running_stats=True)\n",
              "  (c1): Conv2d(3, 16, kernel_size=(3, 3), stride=(1, 1))\n",
              "  (c2): Conv2d(16, 16, kernel_size=(3, 3), stride=(1, 1))\n",
              "  (mp1): MaxPool2d(kernel_size=2, stride=2, padding=0, dilation=1, ceil_mode=False)\n",
              "  (flat): Flatten(start_dim=1, end_dim=-1)\n",
              "  (l1): Linear(in_features=49200, out_features=200, bias=True)\n",
              "  (l2): Linear(in_features=200, out_features=50, bias=True)\n",
              "  (lstm1): LSTM(50, 20, batch_first=True)\n",
              "  (l3): Linear(in_features=20, out_features=2, bias=True)\n",
              ")"
            ]
          },
          "metadata": {},
          "execution_count": 62
        }
      ]
    },
    {
      "cell_type": "code",
      "source": [
        "type(video_sequences)\n",
        "#model.forward(video_sequences)"
      ],
      "metadata": {
        "colab": {
          "base_uri": "https://localhost:8080/"
        },
        "id": "Kmf9svS-Ln1_",
        "outputId": "1769a3be-8fc0-4111-d871-f9c702c54737"
      },
      "execution_count": 66,
      "outputs": [
        {
          "output_type": "execute_result",
          "data": {
            "text/plain": [
              "numpy.ndarray"
            ]
          },
          "metadata": {},
          "execution_count": 66
        }
      ]
    },
    {
      "cell_type": "code",
      "source": [
        "video_sequences.shape"
      ],
      "metadata": {
        "colab": {
          "base_uri": "https://localhost:8080/"
        },
        "id": "hAGaB5pJSD6h",
        "outputId": "7310d2e6-ab5b-4229-b38d-06b3770d83ca"
      },
      "execution_count": 75,
      "outputs": [
        {
          "output_type": "execute_result",
          "data": {
            "text/plain": [
              "(1, 50, 3, 86, 154)"
            ]
          },
          "metadata": {},
          "execution_count": 75
        }
      ]
    },
    {
      "cell_type": "code",
      "source": [
        "import torchvision\n",
        "import torchvision.transforms as transforms\n",
        "from torch.utils.data import DataLoader"
      ],
      "metadata": {
        "id": "qHniY-gJOHl9"
      },
      "execution_count": 67,
      "outputs": []
    },
    {
      "cell_type": "code",
      "source": [
        "torch_video_sequences = torch.Tensor(video_sequences)\n",
        "type(torch_video_sequences)"
      ],
      "metadata": {
        "colab": {
          "base_uri": "https://localhost:8080/"
        },
        "id": "pQP5lX15QU2z",
        "outputId": "cfdc8812-5ccb-4a0b-9d0d-e21fc926bd94"
      },
      "execution_count": 77,
      "outputs": [
        {
          "output_type": "execute_result",
          "data": {
            "text/plain": [
              "torch.Tensor"
            ]
          },
          "metadata": {},
          "execution_count": 77
        }
      ]
    },
    {
      "cell_type": "code",
      "source": [
        "with torch.no_grad():\n",
        "    model.eval()\n",
        "    inputs = torch_video_sequences\n",
        "    outputs = model(inputs)\n",
        "    print(outputs)"
      ],
      "metadata": {
        "colab": {
          "base_uri": "https://localhost:8080/"
        },
        "id": "LncXJ4hBT4Al",
        "outputId": "0efb84b2-d84b-4e0c-ff37-d3b709f5af6c"
      },
      "execution_count": 79,
      "outputs": [
        {
          "output_type": "stream",
          "name": "stdout",
          "text": [
            "tensor([ 0.3598, -0.1974])\n"
          ]
        }
      ]
    },
    {
      "cell_type": "code",
      "source": [
        ""
      ],
      "metadata": {
        "id": "TlqqwtVv9Z4Y"
      },
      "execution_count": null,
      "outputs": []
    }
  ],
  "metadata": {
    "accelerator": "GPU",
    "colab": {
      "collapsed_sections": [],
      "machine_shape": "hm",
      "name": "sample_training_maskRCNN_lstm.ipynb",
      "provenance": []
    },
    "gpuClass": "standard",
    "kernelspec": {
      "display_name": "Python 3",
      "name": "python3"
    },
    "language_info": {
      "name": "python"
    },
    "widgets": {
      "application/vnd.jupyter.widget-state+json": {
        "2978033ab8e245f18cc7bdbf2636a2ec": {
          "model_module": "@jupyter-widgets/controls",
          "model_name": "VBoxModel",
          "model_module_version": "1.5.0",
          "state": {
            "_dom_classes": [],
            "_model_module": "@jupyter-widgets/controls",
            "_model_module_version": "1.5.0",
            "_model_name": "VBoxModel",
            "_view_count": null,
            "_view_module": "@jupyter-widgets/controls",
            "_view_module_version": "1.5.0",
            "_view_name": "VBoxView",
            "box_style": "",
            "children": [
              "IPY_MODEL_f1428de3c7084bd9ae07f4e92700c99c",
              "IPY_MODEL_c6abfe7643f94555862dc7d612d3a7d2"
            ],
            "layout": "IPY_MODEL_8238c8c64a154c61a4403e1ae0892b8e"
          }
        },
        "f1428de3c7084bd9ae07f4e92700c99c": {
          "model_module": "@jupyter-widgets/controls",
          "model_name": "LabelModel",
          "model_module_version": "1.5.0",
          "state": {
            "_dom_classes": [],
            "_model_module": "@jupyter-widgets/controls",
            "_model_module_version": "1.5.0",
            "_model_name": "LabelModel",
            "_view_count": null,
            "_view_module": "@jupyter-widgets/controls",
            "_view_module_version": "1.5.0",
            "_view_name": "LabelView",
            "description": "",
            "description_tooltip": null,
            "layout": "IPY_MODEL_0b5d0af0afba47f3b1f91c795ea1a5b5",
            "placeholder": "​",
            "style": "IPY_MODEL_44cc6ca84983482b8444aab3690c21db",
            "value": "0.009 MB of 0.009 MB uploaded (0.000 MB deduped)\r"
          }
        },
        "c6abfe7643f94555862dc7d612d3a7d2": {
          "model_module": "@jupyter-widgets/controls",
          "model_name": "FloatProgressModel",
          "model_module_version": "1.5.0",
          "state": {
            "_dom_classes": [],
            "_model_module": "@jupyter-widgets/controls",
            "_model_module_version": "1.5.0",
            "_model_name": "FloatProgressModel",
            "_view_count": null,
            "_view_module": "@jupyter-widgets/controls",
            "_view_module_version": "1.5.0",
            "_view_name": "ProgressView",
            "bar_style": "",
            "description": "",
            "description_tooltip": null,
            "layout": "IPY_MODEL_28900ca660c94631b3e2b15fc2030232",
            "max": 1,
            "min": 0,
            "orientation": "horizontal",
            "style": "IPY_MODEL_7e0c5c68301d430c88909d447cd70523",
            "value": 1
          }
        },
        "8238c8c64a154c61a4403e1ae0892b8e": {
          "model_module": "@jupyter-widgets/base",
          "model_name": "LayoutModel",
          "model_module_version": "1.2.0",
          "state": {
            "_model_module": "@jupyter-widgets/base",
            "_model_module_version": "1.2.0",
            "_model_name": "LayoutModel",
            "_view_count": null,
            "_view_module": "@jupyter-widgets/base",
            "_view_module_version": "1.2.0",
            "_view_name": "LayoutView",
            "align_content": null,
            "align_items": null,
            "align_self": null,
            "border": null,
            "bottom": null,
            "display": null,
            "flex": null,
            "flex_flow": null,
            "grid_area": null,
            "grid_auto_columns": null,
            "grid_auto_flow": null,
            "grid_auto_rows": null,
            "grid_column": null,
            "grid_gap": null,
            "grid_row": null,
            "grid_template_areas": null,
            "grid_template_columns": null,
            "grid_template_rows": null,
            "height": null,
            "justify_content": null,
            "justify_items": null,
            "left": null,
            "margin": null,
            "max_height": null,
            "max_width": null,
            "min_height": null,
            "min_width": null,
            "object_fit": null,
            "object_position": null,
            "order": null,
            "overflow": null,
            "overflow_x": null,
            "overflow_y": null,
            "padding": null,
            "right": null,
            "top": null,
            "visibility": null,
            "width": null
          }
        },
        "0b5d0af0afba47f3b1f91c795ea1a5b5": {
          "model_module": "@jupyter-widgets/base",
          "model_name": "LayoutModel",
          "model_module_version": "1.2.0",
          "state": {
            "_model_module": "@jupyter-widgets/base",
            "_model_module_version": "1.2.0",
            "_model_name": "LayoutModel",
            "_view_count": null,
            "_view_module": "@jupyter-widgets/base",
            "_view_module_version": "1.2.0",
            "_view_name": "LayoutView",
            "align_content": null,
            "align_items": null,
            "align_self": null,
            "border": null,
            "bottom": null,
            "display": null,
            "flex": null,
            "flex_flow": null,
            "grid_area": null,
            "grid_auto_columns": null,
            "grid_auto_flow": null,
            "grid_auto_rows": null,
            "grid_column": null,
            "grid_gap": null,
            "grid_row": null,
            "grid_template_areas": null,
            "grid_template_columns": null,
            "grid_template_rows": null,
            "height": null,
            "justify_content": null,
            "justify_items": null,
            "left": null,
            "margin": null,
            "max_height": null,
            "max_width": null,
            "min_height": null,
            "min_width": null,
            "object_fit": null,
            "object_position": null,
            "order": null,
            "overflow": null,
            "overflow_x": null,
            "overflow_y": null,
            "padding": null,
            "right": null,
            "top": null,
            "visibility": null,
            "width": null
          }
        },
        "44cc6ca84983482b8444aab3690c21db": {
          "model_module": "@jupyter-widgets/controls",
          "model_name": "DescriptionStyleModel",
          "model_module_version": "1.5.0",
          "state": {
            "_model_module": "@jupyter-widgets/controls",
            "_model_module_version": "1.5.0",
            "_model_name": "DescriptionStyleModel",
            "_view_count": null,
            "_view_module": "@jupyter-widgets/base",
            "_view_module_version": "1.2.0",
            "_view_name": "StyleView",
            "description_width": ""
          }
        },
        "28900ca660c94631b3e2b15fc2030232": {
          "model_module": "@jupyter-widgets/base",
          "model_name": "LayoutModel",
          "model_module_version": "1.2.0",
          "state": {
            "_model_module": "@jupyter-widgets/base",
            "_model_module_version": "1.2.0",
            "_model_name": "LayoutModel",
            "_view_count": null,
            "_view_module": "@jupyter-widgets/base",
            "_view_module_version": "1.2.0",
            "_view_name": "LayoutView",
            "align_content": null,
            "align_items": null,
            "align_self": null,
            "border": null,
            "bottom": null,
            "display": null,
            "flex": null,
            "flex_flow": null,
            "grid_area": null,
            "grid_auto_columns": null,
            "grid_auto_flow": null,
            "grid_auto_rows": null,
            "grid_column": null,
            "grid_gap": null,
            "grid_row": null,
            "grid_template_areas": null,
            "grid_template_columns": null,
            "grid_template_rows": null,
            "height": null,
            "justify_content": null,
            "justify_items": null,
            "left": null,
            "margin": null,
            "max_height": null,
            "max_width": null,
            "min_height": null,
            "min_width": null,
            "object_fit": null,
            "object_position": null,
            "order": null,
            "overflow": null,
            "overflow_x": null,
            "overflow_y": null,
            "padding": null,
            "right": null,
            "top": null,
            "visibility": null,
            "width": null
          }
        },
        "7e0c5c68301d430c88909d447cd70523": {
          "model_module": "@jupyter-widgets/controls",
          "model_name": "ProgressStyleModel",
          "model_module_version": "1.5.0",
          "state": {
            "_model_module": "@jupyter-widgets/controls",
            "_model_module_version": "1.5.0",
            "_model_name": "ProgressStyleModel",
            "_view_count": null,
            "_view_module": "@jupyter-widgets/base",
            "_view_module_version": "1.2.0",
            "_view_name": "StyleView",
            "bar_color": null,
            "description_width": ""
          }
        }
      }
    }
  },
  "nbformat": 4,
  "nbformat_minor": 0
}